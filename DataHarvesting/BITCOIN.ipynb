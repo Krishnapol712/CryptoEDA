import requests
import pandas as pd
from datetime import datetime

# Setup
coin_id = "bitcoin"
symbol = "BTC"
url = f"https://api.coingecko.com/api/v3/coins/{coin_id}/market_chart"
params = {
    "vs_currency": "usd",
    "days": "365"
}

# Fetch data
r = requests.get(url, params=params)
data = r.json()

# Validate response
if 'prices' not in data or 'market_caps' not in data:
    print("ERROR: Missing expected data fields.")
    print("Response keys:", data.keys())
    print("Full response:", data)
else:
    # Price DataFrame
    price_df = pd.DataFrame(data['prices'], columns=['timestamp_ms', 'price'])
    price_df['datetime'] = pd.to_datetime(price_df['timestamp_ms'], unit='ms')
    price_df = price_df.drop(columns=['timestamp_ms'])
    price_df.set_index('datetime', inplace=True)

    # Market Cap DataFrame
    cap_df = pd.DataFrame(data['market_caps'], columns=['timestamp_ms', 'market_cap'])
    cap_df['datetime'] = pd.to_datetime(cap_df['timestamp_ms'], unit='ms')
    cap_df = cap_df.drop(columns=['timestamp_ms'])
    cap_df.set_index('datetime', inplace=True)


    # Merge both on datetime
    df = price_df.join(cap_df, how='inner')

    # Filter to last 365 days just in case
    one_year_ago = pd.Timestamp.now() - pd.DateOffset(days=365)
    df = df[df.index >= one_year_ago]

    # Resample to weekly data
    weekly = pd.DataFrame()
    weekly['open'] = df['price'].resample('W').first()
    weekly['high'] = df['price'].resample('W').max()
    weekly['close'] = df['price'].resample('W').last()
    weekly['market_cap'] = df['market_cap'].resample('W').last()
    weekly.reset_index(inplace=True)
    weekly['symbol'] = symbol

    # Reorder columns
    weekly = weekly[['datetime', 'symbol', 'open', 'high', 'close', 'market_cap']]

    # Save to CSV
    weekly.to_csv("bitcoin_weekly_ohlc_marketcap.csv", index=False)
    print("✅ CSV saved: bitcoin_weekly_ohlc_marketcap.csv")
