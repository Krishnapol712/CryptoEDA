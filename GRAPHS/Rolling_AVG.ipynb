import pandas as pd
import plotly.graph_objects as go
import glob

# 1. Find all your weekly CSVs
files = glob.glob("*_weekly*.csv")

for fn in files:
    # 2. Infer symbol
    base = fn.split('_')[0].upper()
    symbol = 'BTC' if base == 'BITCOIN' else base

    # 3. Load data
    df = pd.read_csv(fn, parse_dates=['datetime'])
    df = df.sort_values('datetime')

    # 4. Compute 4‑week roll avg of close
    df['rolling_avg'] = df['close'].rolling(window=4).mean()

    # 5. Build figure
    fig = go.Figure([
        go.Scatter(
            x=df['datetime'],
            y=df['close'],
            mode='lines',
            name='Close'
        ),
        go.Scatter(
            x=df['datetime'],
            y=df['rolling_avg'],
            mode='lines',
            name='4‑Week MA'
        )
    ])

    # 6. show
    fig.update_layout(
        title=f"{symbol} — Close vs 4‑Week Rolling Avg",
        xaxis_title="Date",
        yaxis_title="Price (USD)",
        legend_title="Series"
    )
    fig.show()
