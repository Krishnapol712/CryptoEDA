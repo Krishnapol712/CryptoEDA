import pandas as pd
import plotly.graph_objects as go
from plotly.subplots import make_subplots
import glob

# 1. Find all weekly CSVs for coins
files = glob.glob("*_weekly*.csv")

for fn in files:
    # 2. Derive symbol from filename
    base = fn.split('_')[0].upper()
    symbol = 'BTC' if base == 'BITCOIN' else base

    # 3. Load the DataFrame and parse dates
    df = pd.read_csv(fn, parse_dates=['datetime'])
    df = df.sort_values('datetime')

    # 4. Compute week-over-week absolute and percent change of market cap
    df['mc_change'] = df['market_cap'].diff()                     # absolute change
    df['mc_pct_change'] = df['market_cap'].pct_change() * 100     # percent change

    # 5. Create subplots: 2 rows, 1 column
    fig = make_subplots(
        rows=2, cols=1,
        shared_xaxes=True,
        subplot_titles=(f"{symbol} Weekly Market Cap Change (USD)", f"{symbol} Weekly Market Cap % Change")
    )

    # 6. Add absolute change trace
    fig.add_trace(
        go.Scatter(x=df['datetime'], y=df['mc_change'], mode='lines+markers', name='Δ Market Cap (USD)'),
        row=1, col=1
    )

    # 7. Add percent change trace
    fig.add_trace(
        go.Scatter(x=df['datetime'], y=df['mc_pct_change'], mode='lines+markers', name='% Δ Market Cap'),
        row=2, col=1
    )

    # 8. Update layout
    fig.update_layout(
        height=600, width=800,
        title_text=f"{symbol} Market Cap Change Overview",
        showlegend=False
    )
    fig.update_xaxes(title_text="Date", row=2, col=1)
    fig.update_yaxes(title_text="Δ Market Cap (USD)", row=1, col=1)
    fig.update_yaxes(title_text="% Δ Market Cap", row=2, col=1)

    # 9. Display the figure
    fig.show()
