import pandas as pd
import plotly.express as px

# File names , symbols
files = {
    'ETH_weekly.csv': 'ETH',
    'XRP_weekly.csv': 'XRP',
    'USDT_weekly.csv': 'USDT',
    'ADA_weekly.csv': 'ADA',
    'bitcoin_weekly_ohlc_marketcap.csv': 'BTC'
}

# Store latest market caps
latest_caps = []

for file, symbol in files.items():
    try:
        df = pd.read_csv(file)
        last_row = df.iloc[-1]
        market_cap = last_row['market_cap']
        latest_caps.append({'symbol': symbol, 'market_cap': market_cap})
    except Exception as e:
        print(f" Problem with {file}: {e}")

# Convert to DataFrame
cap_df = pd.DataFrame(latest_caps)
cap_df = cap_df.sort_values(by='market_cap', ascending=True)

# Plot horizontal bar chart
fig = px.bar(
    cap_df,
    x='market_cap',
    y='symbol',
    orientation='h',
    title='Latest Market Caps of Top Cryptocurrencies',
    labels={'market_cap': 'Market Cap (USD)', 'symbol': 'Coin'},
    text='market_cap'
)

# Format bars
fig.update_traces(texttemplate='%{text:.2s}', textposition='outside')
fig.update_layout(xaxis_tickformat='$,.0s')

fig.show()
